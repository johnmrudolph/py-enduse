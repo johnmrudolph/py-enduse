{
 "cells": [
  {
   "cell_type": "code",
   "execution_count": 9,
   "metadata": {},
   "outputs": [],
   "source": [
    "import numpy as np\n",
    "from numba import njit\n",
    "from numba import types\n",
    "from numba import jitclass\n",
    "from numba.typed import Dict, List"
   ]
  },
  {
   "cell_type": "code",
   "execution_count": 31,
   "metadata": {},
   "outputs": [],
   "source": [
    "faf = {\n",
    "    1: (0.75, 5000, 15), \n",
    "    2: (0.20, 3000, 20), \n",
    "    3: (0.05, 2000, 25),\n",
    "}"
   ]
  },
  {
   "cell_type": "code",
   "execution_count": 32,
   "metadata": {},
   "outputs": [],
   "source": [
    "# TODO use this instead of a mixted type dictionary for easier NUMBA processing\n",
    "faf_action = {\n",
    "    2025: [[1, 2, 3], [0.1, 0.65, 0.25]],\n",
    "    2030: [[1, 2, 3], [0, 0.25, 0.75]],\n",
    "}"
   ]
  },
  {
   "cell_type": "code",
   "execution_count": 3,
   "metadata": {},
   "outputs": [],
   "source": [
    "# TODO build numba so EndUseReplacement is list of NUMBA\n",
    "# conver Replacement year to be numba list\n",
    "faf_action = {\n",
    "    'EndUseReplacement': [[[1, 2, 3], [0.1, 0.65, 0.25]], [[1, 2, 3], [0, 0.25, 0.75]]],\n",
    "    'ReplacementYear': [2025, 2035]\n",
    "}"
   ]
  },
  {
   "cell_type": "code",
   "execution_count": 6,
   "metadata": {},
   "outputs": [],
   "source": [
    "end_uses = {'faf': (faf, faf_action), \n",
    "            'faf2': (faf, faf_action), \n",
    "            'faf3': (faf, )}"
   ]
  },
  {
   "cell_type": "code",
   "execution_count": 7,
   "metadata": {},
   "outputs": [],
   "source": [
    "building_obj = {\n",
    "    'CustomerClass': 'Residential',\n",
    "    'Segment': 'Single Family',\n",
    "    'ConstructionVintage': 'Existing',\n",
    "    'PrimaryFuelType': 'Electric',\n",
    "    'EfficiencyLevel': 'Low',\n",
    "    'Floorspace': 2000,\n",
    "    'NumberBuildings': 1000,\n",
    "    'StartYear': 2020,\n",
    "    'EndYear': 2040,\n",
    "    'EndUses': end_uses,\n",
    "}"
   ]
  },
  {
   "cell_type": "code",
   "execution_count": 8,
   "metadata": {},
   "outputs": [],
   "source": [
    "def eu_dict_to_numba(eu_dict):\n",
    "    \"\"\"Convert end use dictionary to numba dictionary\"\"\"\n",
    "    eu_dict_n = Dict.empty(\n",
    "        key_type = types.int64,\n",
    "        value_type = types.float64[:],\n",
    "    )\n",
    "    for key, value in eu_dict.items():\n",
    "        eu_dict_n[key] = np.asarray(value)\n",
    "    return eu_dict_n"
   ]
  },
  {
   "cell_type": "code",
   "execution_count": null,
   "metadata": {},
   "outputs": [],
   "source": [
    "def action_dict_to_numba(action_dict):\n",
    "    \"\"\"Convert action dictionary to numba dictionary\"\"\"\n",
    "    action_dict_n = Dict.empyt(\n",
    "        key_type = types.unicode_type,\n",
    "        value_type = List()\n",
    "    )\n",
    "    \n",
    "    for key, value in action_dict.items():\n",
    "        if key == 'EndUseReplacement':\n",
    "            eu_level = List()\n",
    "            eu_sat = List()\n",
    "            for n in value:\n",
    "                eu_level.append(n[0])\n",
    "                eu_sat.append(n[1])\n",
    "        "
   ]
  },
  {
   "cell_type": "code",
   "execution_count": null,
   "metadata": {},
   "outputs": [],
   "source": [
    "@njit\n",
    "def create_stock_no_replacement(start, end, end_use, n):\n",
    "    \"\"\"If there is no action then stock will stay constant\"\"\"\n",
    "    stock = np.ones((len(end_use), end - start + 1))\n",
    "    # will only create a 1d array\n",
    "    stock_0 = np.asarray([x[0] * n for x in end_use.values()])\n",
    "    # need to reshape stock_0 to (n, 1) array for broadcasting\n",
    "    return stock * stock_0.reshape((stock_0.size, 1))"
   ]
  },
  {
   "cell_type": "code",
   "execution_count": null,
   "metadata": {},
   "outputs": [],
   "source": [
    "def create_stock_replacement_prob(start, end, n, end_use, action):\n",
    "    \"\"\"stock replacement probability matrix\"\"\"\n",
    "    # set init vars\n",
    "    eu_base = min(end_use.keys())\n",
    "    eu_repl = action['EndUseReplacement']\n",
    "    repl_year = action['ReplacementYear']\n",
    "    \n",
    "    # build empty replacement matrix (# of equipment efficiency levels, n_periods)\n",
    "    repl_arr = np.ones((len(eu_obj), end - start))\n",
    "    prob_0 = np.asarray([x[0] for x in end_use_obj.values()])\n",
    "    repl_arr = repl_arr * prob_0[:, None]\n",
    "\n",
    "    # loop over replacement conditions\n",
    "    # outerloop for each year with efficiecy ramp\n",
    "    for i in zip(eu_repl, repl_year):\n",
    "        # inner loop for populating replacement matrix for efficiency ramp condition\n",
    "        for x in zip(i[0][0], i[0][1]):\n",
    "            repl_arr[x[0] - eu_base, (i[1] - start - 1):] = x[1]\n",
    "                       \n",
    "    return repl_arr"
   ]
  },
  {
   "cell_type": "code",
   "execution_count": null,
   "metadata": {},
   "outputs": [],
   "source": [
    "@njit\n",
    "def stock_turnover_calc(stock_mat, eul_mat, stock_repl_mat):\n",
    "    \"\"\"Do the numerical work of turnover calc\"\"\"\n",
    "    t_mat = np.full_like(stock_repl_mat, 0)\n",
    "    for i in np.ndindex(t_mat.shape[1]):\n",
    "        st_i = stock_mat[:, i[0]] / eul_mat[:, i[0]]\n",
    "        t_mat[:, i[0]] = st_i.sum() * stock_repl_mat[:, i[0]]\n",
    "        stock_mat[:, i[0] + 1] = (stock_mat[:, i[0]] - st_i + t_mat[:, i[0]]).ravel()\n",
    "    return stock_mat"
   ]
  },
  {
   "cell_type": "code",
   "execution_count": null,
   "metadata": {},
   "outputs": [],
   "source": [
    "def create_stock_turnover(start, end, action_object, n_buildings):\n",
    "    \"\"\"Container to handle turnover calculation\"\"\"\n",
    "    # set init vars\n",
    "    eu_obj = action_object['EndUseObject']\n",
    "    repl =  action_object['EndUseReplacement']\n",
    "    \n",
    "    # get initial stock values\n",
    "    stock_0 = np.asarray([x[0] * n_buildings for x in eu_obj.values()])\n",
    "    uec_0 =  np.asarray([x[1] for x in eu_obj.values()])\n",
    "    eul_0 = np.asarray([x[2] for x in eu_obj.values()])\n",
    "    \n",
    "    # create empty stock array\n",
    "    stock_mat = np.zeros((stock_0.shape[0], end - start + 1))\n",
    "    uec_mat = np.ones((uec_0.shape[0], end - start + 1)) * uec_0[:, None] \n",
    "    eul_mat = np.ones((eul_0.shape[0], end - start + 1)) * eul_0[:, None] \n",
    "    \n",
    "    # populate initial values\n",
    "    stock_mat[:, 0] = stock_0\n",
    "    \n",
    "    # replacement array\n",
    "    stock_repl_mat = create_stock_ramp_prob_mat(action_object)\n",
    "    return stock_turnover_calc(stock_mat, eul_mat, stock_repl_mat)"
   ]
  },
  {
   "cell_type": "code",
   "execution_count": null,
   "metadata": {},
   "outputs": [],
   "source": [
    "def create_building_mat(building_obj):\n",
    "    \"\"\"Initiate builing level calcuation\"\"\"\n",
    "    # extract variables for calcuation\n",
    "    start = building_obj['StartYear']\n",
    "    end = building_obj['EndYear']\n",
    "    floorspace = building_obj['Floorspace']\n",
    "    n = building_obj['NumberBuildings']\n",
    "    end_uses = building_obj['EndUses']\n",
    "    # loop through all end-uses\n",
    "    end_use_lst = []\n",
    "    # loop over each end use\n",
    "    for value in end_uses.values():\n",
    "        # create numba dict\n",
    "        # if there is only 1 item then no action\n",
    "        eu_dict_n  = eu_dict_to_numba(value[0])\n",
    "        if len(value) == 1:\n",
    "            end_use_lst.append(create_stock_no_replacement(start, end, eu_dict_n, n))\n",
    "        else:\n",
    "            create_stock_turnover()\n",
    "    return end_use_lst"
   ]
  },
  {
   "cell_type": "code",
   "execution_count": null,
   "metadata": {},
   "outputs": [],
   "source": []
  }
 ],
 "metadata": {
  "kernelspec": {
   "display_name": "Python 3.6.7 64-bit ('eu_venv': venv)",
   "language": "python",
   "name": "python36764biteuvenvvenv2d07d102a86a4b30a7e9c30223b46f70"
  },
  "language_info": {
   "codemirror_mode": {
    "name": "ipython",
    "version": 3
   },
   "file_extension": ".py",
   "mimetype": "text/x-python",
   "name": "python",
   "nbconvert_exporter": "python",
   "pygments_lexer": "ipython3",
   "version": "3.6.7"
  }
 },
 "nbformat": 4,
 "nbformat_minor": 2
}
